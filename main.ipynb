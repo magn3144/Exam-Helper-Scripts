{
 "cells": [
  {
   "cell_type": "code",
   "execution_count": null,
   "metadata": {},
   "outputs": [],
   "source": [
    "import numpy as np\n",
    "\n",
    "from search.minimax import minimax, visualize_minimax\n",
    "from search.expectimax import expectimax, visualize_expectimax\n",
    "from search.alpha_beta_search import alpha_beta_search, visualize_alpha_beta_search\n",
    "from search.astar import A_star, visualize_astar\n",
    "from search.best_first_search import best_first, visualize_best_first\n",
    "from search.breath_first_search import bfs, visualize_bfs\n",
    "from search.depth_first_search import dfs\n",
    "from tree_generators.binary_tree_generator import binary_tree_adj_list\n",
    "from visualization.tree_visualizer import draw_tree\n",
    "from visualization.graph_visualizer import draw_graph\n",
    "from optimality.admissibility_and_consistency import is_admissible, is_consistent\n",
    "from normal_form_games.classify_strategies import classify_dominant_strategies\n",
    "from normal_form_games.iterated_elimination import iterated_elimination\n",
    "from tools.tools import print_3D_arr_as_table"
   ]
  },
  {
   "cell_type": "code",
   "execution_count": null,
   "metadata": {},
   "outputs": [],
   "source": [
    "# Game theory\n",
    "\n",
    "game1 = np.array([[[-1,1],[-1,-1],[-1,0]],[[0,0],[1,-1],[1,0]],[[0,1],[0,-1],[0,0]]])\n",
    "game2 = np.array([[[0,0],[0,1]],[[1,0],[-1,1]]])\n",
    "c = classify_dominant_strategies(game2)\n",
    "print_3D_arr_as_table(game2)\n",
    "n = iterated_elimination(game2)\n",
    "print(\"----------------------\")\n",
    "print_3D_arr_as_table(n)"
   ]
  },
  {
   "cell_type": "code",
   "execution_count": null,
   "metadata": {},
   "outputs": [],
   "source": [
    "# Graph search\n",
    "# (Ex 2.2 example solution)\n",
    "graph = [[1,2,3,4], [], [], [0,5,6,7,8,9], [], [], [], [], [], []]\n",
    "h_values = [4, 4, 4, 2, 2, 2, 4, 4, 2, 0]\n",
    "\n",
    "visualize_best_first(graph, 0, 9, h_values, 3000)\n",
    "visualize_astar(graph, 0, 9, h_values, 1, node_size=3000)\n",
    "visualize_bfs(graph, 0, 9, node_size=3000)\n",
    "\n",
    "print(is_admissible(graph, 9, h_values, 1))\n",
    "print(is_consistent(graph, h_values, 1))\n",
    "\n",
    "h_g = [2, 3, 3, 1, 1, 2, 2, 2, 2, 0]\n",
    "print(is_admissible(graph, 9, h_g, 1))\n",
    "print(is_consistent(graph, h_g, 1))"
   ]
  },
  {
   "cell_type": "code",
   "execution_count": null,
   "metadata": {},
   "outputs": [],
   "source": [
    "# Tree search / nondeterminism\n",
    "\n",
    "tree_graph = binary_tree_adj_list(8)\n",
    "values = [4, 1, 8, 5, 1, 2, 12, 5]\n",
    "visualize_minimax(tree_graph, values, node_size=3000)\n",
    "visualize_expectimax(tree_graph, values, node_size=3000)\n",
    "visualize_alpha_beta_search(tree_graph, values, node_size=3000)"
   ]
  },
  {
   "cell_type": "code",
   "execution_count": null,
   "metadata": {},
   "outputs": [],
   "source": [
    "# Astar graph search with costs\n",
    "\n",
    "graph_with_costs = [[(1,6), (2,2)], [(3,2)], [(1,3),(3,4),(4,8)], [(4,3)], []]\n",
    "h_values = [9, 5, 7, 3, 0]\n",
    "visualize_astar(graph_with_costs, 0, 4, h_values, node_size=3000)\n",
    "print(is_admissible(graph_with_costs, 4, h_values))\n",
    "print(is_consistent(graph_with_costs, h_values))"
   ]
  }
 ],
 "metadata": {
  "kernelspec": {
   "display_name": "02182",
   "language": "python",
   "name": "python3"
  },
  "language_info": {
   "codemirror_mode": {
    "name": "ipython",
    "version": 3
   },
   "file_extension": ".py",
   "mimetype": "text/x-python",
   "name": "python",
   "nbconvert_exporter": "python",
   "pygments_lexer": "ipython3",
   "version": "3.11.3"
  },
  "orig_nbformat": 4
 },
 "nbformat": 4,
 "nbformat_minor": 2
}
